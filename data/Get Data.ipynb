{
 "cells": [
  {
   "cell_type": "code",
   "execution_count": 99,
   "metadata": {},
   "outputs": [],
   "source": [
    "import io\n",
    "import pandas as pd\n",
    "import requests\n",
    "import re\n",
    "import xml.etree.ElementTree as ET\n",
    "import subprocess\n",
    "\n",
    "from bs4 import BeautifulSoup"
   ]
  },
  {
   "cell_type": "code",
   "execution_count": 17,
   "metadata": {},
   "outputs": [],
   "source": [
    "tree = ET.parse('ABSA16FR_Restaurants_Train.xml')\n",
    "root = tree.getroot()"
   ]
  },
  {
   "cell_type": "code",
   "execution_count": 5,
   "metadata": {},
   "outputs": [],
   "source": [
    "links = list()"
   ]
  },
  {
   "cell_type": "code",
   "execution_count": 9,
   "metadata": {},
   "outputs": [],
   "source": [
    "f = open(\"ABSA16FR_Restaurants_index.txt\", \"r\")\n",
    "for x in f:\n",
    "    val = x.split('\\t')\n",
    "    val[2] = val[2].replace('\\n', '')\n",
    "    links.append(val)"
   ]
  },
  {
   "cell_type": "code",
   "execution_count": 35,
   "metadata": {},
   "outputs": [],
   "source": [
    "dataL = pd.DataFrame(links, columns=['id', 'link', 'nbSentence'])"
   ]
  },
  {
   "cell_type": "code",
   "execution_count": 36,
   "metadata": {},
   "outputs": [
    {
     "data": {
      "text/html": [
       "<div>\n",
       "<style scoped>\n",
       "    .dataframe tbody tr th:only-of-type {\n",
       "        vertical-align: middle;\n",
       "    }\n",
       "\n",
       "    .dataframe tbody tr th {\n",
       "        vertical-align: top;\n",
       "    }\n",
       "\n",
       "    .dataframe thead th {\n",
       "        text-align: right;\n",
       "    }\n",
       "</style>\n",
       "<table border=\"1\" class=\"dataframe\">\n",
       "  <thead>\n",
       "    <tr style=\"text-align: right;\">\n",
       "      <th></th>\n",
       "      <th>link</th>\n",
       "      <th>nbSentence</th>\n",
       "    </tr>\n",
       "    <tr>\n",
       "      <th>id</th>\n",
       "      <th></th>\n",
       "      <th></th>\n",
       "    </tr>\n",
       "  </thead>\n",
       "  <tbody>\n",
       "    <tr>\n",
       "      <th>g1079435-d3498474-r271346275</th>\n",
       "      <td>https://www.tripadvisor.fr/ShowUserReviews-g10...</td>\n",
       "      <td>1</td>\n",
       "    </tr>\n",
       "    <tr>\n",
       "      <th>g1080298-d1332050-r275655485</th>\n",
       "      <td>https://www.tripadvisor.fr/ShowUserReviews-g10...</td>\n",
       "      <td>2</td>\n",
       "    </tr>\n",
       "    <tr>\n",
       "      <th>g1080298-d4701165-r281527562</th>\n",
       "      <td>https://www.tripadvisor.fr/ShowUserReviews-g10...</td>\n",
       "      <td>3</td>\n",
       "    </tr>\n",
       "    <tr>\n",
       "      <th>g1080559-d3686505-r151173923</th>\n",
       "      <td>https://www.tripadvisor.fr/ShowUserReviews-g10...</td>\n",
       "      <td>1</td>\n",
       "    </tr>\n",
       "    <tr>\n",
       "      <th>g1080574-d1337519-r211045323</th>\n",
       "      <td>https://www.tripadvisor.fr/ShowUserReviews-g10...</td>\n",
       "      <td>6</td>\n",
       "    </tr>\n",
       "  </tbody>\n",
       "</table>\n",
       "</div>"
      ],
      "text/plain": [
       "                                                                           link  \\\n",
       "id                                                                                \n",
       "g1079435-d3498474-r271346275  https://www.tripadvisor.fr/ShowUserReviews-g10...   \n",
       "g1080298-d1332050-r275655485  https://www.tripadvisor.fr/ShowUserReviews-g10...   \n",
       "g1080298-d4701165-r281527562  https://www.tripadvisor.fr/ShowUserReviews-g10...   \n",
       "g1080559-d3686505-r151173923  https://www.tripadvisor.fr/ShowUserReviews-g10...   \n",
       "g1080574-d1337519-r211045323  https://www.tripadvisor.fr/ShowUserReviews-g10...   \n",
       "\n",
       "                             nbSentence  \n",
       "id                                       \n",
       "g1079435-d3498474-r271346275          1  \n",
       "g1080298-d1332050-r275655485          2  \n",
       "g1080298-d4701165-r281527562          3  \n",
       "g1080559-d3686505-r151173923          1  \n",
       "g1080574-d1337519-r211045323          6  "
      ]
     },
     "execution_count": 36,
     "metadata": {},
     "output_type": "execute_result"
    }
   ],
   "source": [
    "dataL = dataL.set_index('id')\n",
    "dataL.head()"
   ]
  },
  {
   "cell_type": "code",
   "execution_count": 40,
   "metadata": {},
   "outputs": [
    {
     "data": {
      "text/plain": [
       "Index(['g1079435-d3498474-r271346275', 'g1080298-d1332050-r275655485',\n",
       "       'g1080298-d4701165-r281527562', 'g1080559-d3686505-r151173923',\n",
       "       'g1080574-d1337519-r211045323', 'g1582538-d3877732-r250915172',\n",
       "       'g1833139-d7211477-r282922737', 'g187073-d1328515-r282975754',\n",
       "       'g187073-d2234111-r233672137', 'g187073-d2346663-r285268023',\n",
       "       ...\n",
       "       'g3463365-d824605-r268214202', 'g608761-d1334387-r277341177',\n",
       "       'g608761-d1334432-r281522672', 'g608761-d2053817-r143008138',\n",
       "       'g608761-d2445738-r244940036', 'g608761-d3778492-r181222052',\n",
       "       'g608761-d4750470-r279534176', 'g608761-d5960507-r277194025',\n",
       "       'g608761-d7105002-r282300173', 'g635821-d5792203-r217535741'],\n",
       "      dtype='object', name='id', length=337)"
      ]
     },
     "execution_count": 40,
     "metadata": {},
     "output_type": "execute_result"
    }
   ],
   "source": [
    "dataL.index"
   ]
  },
  {
   "cell_type": "code",
   "execution_count": 44,
   "metadata": {},
   "outputs": [],
   "source": [
    "r = requests.get(dataL.loc['g1079435-d3498474-r271346275']['link'])"
   ]
  },
  {
   "cell_type": "code",
   "execution_count": 45,
   "metadata": {},
   "outputs": [],
   "source": [
    "m = re.search('<p class=\"partial_entry\">(.)*[a-zA-Z0-9]<\\/p>', r.text)\n",
    "if m:\n",
    "    found = m.group(0)"
   ]
  },
  {
   "cell_type": "code",
   "execution_count": 58,
   "metadata": {},
   "outputs": [
    {
     "data": {
      "text/plain": [
       "'fghijklmno'"
      ]
     },
     "execution_count": 58,
     "metadata": {},
     "output_type": "execute_result"
    }
   ],
   "source": [
    "len('<p class=\"partial_entry\">')\n",
    "s = \"abcdefghijklmnopq\"\n",
    "s[5:-2]"
   ]
  },
  {
   "cell_type": "code",
   "execution_count": 117,
   "metadata": {},
   "outputs": [],
   "source": [
    "data = list()\n",
    "dataOpinion = list()"
   ]
  },
  {
   "cell_type": "code",
   "execution_count": 150,
   "metadata": {},
   "outputs": [
    {
     "name": "stdout",
     "output_type": "stream",
     "text": [
      "Ressource g1080574-d1337519-r211045323 doesn't contains a review\n",
      "Ressource g187073-d1328515-r282975754 doesn't contains a review\n",
      "Ressource g187073-d2234111-r233672137 doesn't contains a review\n",
      "Ressource g187091-d2221132-r263477843 doesn't contains a review\n",
      "Ressource g187147-d1113739-r231078339 doesn't contains a review\n",
      "Ressource g187147-d1650840-r242497721 doesn't contains a review\n",
      "Ressource g187147-d2087172-r264852052 doesn't contains a review\n",
      "Ressource g187147-d4235143-r220435098 doesn't contains a review\n",
      "Ressource g187147-d4272002-r260711186 doesn't contains a review\n",
      "Ressource g187147-d6877828-r267314039 doesn't contains a review\n",
      "Ressource g187147-d718132-r119263750 doesn't contains a review\n",
      "Ressource g187147-d804109-r161366715 doesn't contains a review\n",
      "Ressource g187147-d947484-r266104321 doesn't contains a review\n",
      "Ressource g187198-d2041733-r222676078 doesn't contains a review\n",
      "Ressource g187253-d1223545-r227663690 doesn't contains a review\n",
      "Ressource g196680-d7702811-r279218028 doesn't contains a review\n",
      "Ressource g196719-d7112090-r271954522 doesn't contains a review\n",
      "Ressource g3463365-d3967386-r210682247 doesn't contains a review\n",
      "334/335 g635821-d5792203-r217535741 Passs\r"
     ]
    }
   ],
   "source": [
    "l = len(root)\n",
    "i = 0\n",
    "pa = 0\n",
    "notfound = 0\n",
    "for review in root:\n",
    "    id = review.attrib['rid']\n",
    "    r = requests.get(dataL.loc[id]['link'])\n",
    "    doc = BeautifulSoup(r.text)\n",
    "    doc = doc.find('p', attrs={'class' : 'partial_entry'})\n",
    "    if doc != None:\n",
    "        doc = doc.get_text()\n",
    "   \n",
    "        \n",
    "        with open(\"D:\\Git\\TER-Sentiment-Analysis\\data\\input.txt\", \"w\", encoding=\"utf-8\") as f: # or \"rb\"\n",
    "            f.write(doc)\n",
    "            f.close()\n",
    "        subprocess.call(\"D:\\\\Git\\\\TER-Sentiment-Analysis\\\\data\\\\apache-opennlp-1.9.2\\\\bin\\\\opennlp.bat SentenceDetector D:\\\\Git\\\\TER-Sentiment-Analysis\\\\data\\\\apache-opennlp-1.9.2\\\\models\\\\en-sent.bin < D:\\\\Git\\\\TER-Sentiment-Analysis\\\\data\\\\input.txt > D:\\\\Git\\\\TER-Sentiment-Analysis\\\\data\\\\sentences.txt\") \n",
    "        with open('D:\\Git\\TER-Sentiment-Analysis\\data\\sentences.txt', 'r') as content_file:\n",
    "            content = content_file.read()\n",
    "            index_sentence = 0\n",
    "            sentences = content.split('\\n')[:-2]\n",
    "            for sentence in sentences:\n",
    "                #print(len(review[0]))\n",
    "                #print(\"========\")\n",
    "                #print(sentences)\n",
    "                if len(review[0]) == len(sentences):\n",
    "                    if len(review[0][index_sentence]) > 0:\n",
    "                        opinions = review[0][index_sentence][1]\n",
    "                        for opinion in opinions:\n",
    "                            data.append([id, str(index_sentence), sentence, opinion.attrib['target'], opinion.attrib['category'], opinion.attrib['polarity'], opinion.attrib['from'], opinion.attrib['to']])\n",
    "                    else:\n",
    "                        data.append([id, str(index_sentence), sentence, None, None, None, None, None])\n",
    "                else:\n",
    "                    print(str(i)+\"/\"+str(l)+\" \"+id+\" Pass\", end=\"\\r\")\n",
    "                    pa += 1\n",
    "                    continue\n",
    "                index_sentence += 1\n",
    "        print(str(i)+\"/\"+str(l)+\" \"+id, end=\"\\r\")\n",
    "        \n",
    "    else:\n",
    "        notfound += 1\n",
    "        print(\"Ressource {} doesn't contains a review\".format(id))\n",
    "    \n",
    "    i += 1     "
   ]
  },
  {
   "cell_type": "code",
   "execution_count": 151,
   "metadata": {},
   "outputs": [
    {
     "name": "stdout",
     "output_type": "stream",
     "text": [
      "Ressources not found (404) : 18\n",
      "Sentence pass due to SentenceDetector : 599\n",
      "Total : 319\n"
     ]
    }
   ],
   "source": [
    "print(\"Ressources not found (404) : \"+str(notfound))\n",
    "print(\"Sentence pass due to SentenceDetector : \"+str(pa))\n",
    "print(\"Total : \"+str(337-notfound))"
   ]
  },
  {
   "cell_type": "code",
   "execution_count": 148,
   "metadata": {},
   "outputs": [],
   "source": [
    "dataDf = pd.DataFrame(data, columns=['id', 'index_sentence', 'sentence', 'target', 'category', 'polarity', 'from', 'to'])"
   ]
  },
  {
   "cell_type": "code",
   "execution_count": 149,
   "metadata": {},
   "outputs": [
    {
     "data": {
      "text/html": [
       "<div>\n",
       "<style scoped>\n",
       "    .dataframe tbody tr th:only-of-type {\n",
       "        vertical-align: middle;\n",
       "    }\n",
       "\n",
       "    .dataframe tbody tr th {\n",
       "        vertical-align: top;\n",
       "    }\n",
       "\n",
       "    .dataframe thead th {\n",
       "        text-align: right;\n",
       "    }\n",
       "</style>\n",
       "<table border=\"1\" class=\"dataframe\">\n",
       "  <thead>\n",
       "    <tr style=\"text-align: right;\">\n",
       "      <th></th>\n",
       "      <th>id</th>\n",
       "      <th>index_sentence</th>\n",
       "      <th>sentence</th>\n",
       "      <th>target</th>\n",
       "      <th>category</th>\n",
       "      <th>polarity</th>\n",
       "      <th>from</th>\n",
       "      <th>to</th>\n",
       "    </tr>\n",
       "  </thead>\n",
       "  <tbody>\n",
       "    <tr>\n",
       "      <th>0</th>\n",
       "      <td>NaN</td>\n",
       "      <td>NaN</td>\n",
       "      <td>NaN</td>\n",
       "      <td>NaN</td>\n",
       "      <td>NaN</td>\n",
       "      <td>NaN</td>\n",
       "      <td>NaN</td>\n",
       "      <td>NaN</td>\n",
       "    </tr>\n",
       "    <tr>\n",
       "      <th>1</th>\n",
       "      <td>NaN</td>\n",
       "      <td>NaN</td>\n",
       "      <td>NaN</td>\n",
       "      <td>NaN</td>\n",
       "      <td>NaN</td>\n",
       "      <td>NaN</td>\n",
       "      <td>NaN</td>\n",
       "      <td>NaN</td>\n",
       "    </tr>\n",
       "    <tr>\n",
       "      <th>2</th>\n",
       "      <td>NaN</td>\n",
       "      <td>NaN</td>\n",
       "      <td>NaN</td>\n",
       "      <td>NaN</td>\n",
       "      <td>NaN</td>\n",
       "      <td>NaN</td>\n",
       "      <td>NaN</td>\n",
       "      <td>NaN</td>\n",
       "    </tr>\n",
       "    <tr>\n",
       "      <th>3</th>\n",
       "      <td>NaN</td>\n",
       "      <td>NaN</td>\n",
       "      <td>NaN</td>\n",
       "      <td>NaN</td>\n",
       "      <td>NaN</td>\n",
       "      <td>NaN</td>\n",
       "      <td>NaN</td>\n",
       "      <td>NaN</td>\n",
       "    </tr>\n",
       "    <tr>\n",
       "      <th>4</th>\n",
       "      <td>NaN</td>\n",
       "      <td>NaN</td>\n",
       "      <td>NaN</td>\n",
       "      <td>NaN</td>\n",
       "      <td>NaN</td>\n",
       "      <td>NaN</td>\n",
       "      <td>NaN</td>\n",
       "      <td>NaN</td>\n",
       "    </tr>\n",
       "    <tr>\n",
       "      <th>...</th>\n",
       "      <td>...</td>\n",
       "      <td>...</td>\n",
       "      <td>...</td>\n",
       "      <td>...</td>\n",
       "      <td>...</td>\n",
       "      <td>...</td>\n",
       "      <td>...</td>\n",
       "      <td>...</td>\n",
       "    </tr>\n",
       "    <tr>\n",
       "      <th>4502</th>\n",
       "      <td>NaN</td>\n",
       "      <td>NaN</td>\n",
       "      <td>NaN</td>\n",
       "      <td>NaN</td>\n",
       "      <td>NaN</td>\n",
       "      <td>NaN</td>\n",
       "      <td>NaN</td>\n",
       "      <td>NaN</td>\n",
       "    </tr>\n",
       "    <tr>\n",
       "      <th>4503</th>\n",
       "      <td>NaN</td>\n",
       "      <td>NaN</td>\n",
       "      <td>NaN</td>\n",
       "      <td>NaN</td>\n",
       "      <td>NaN</td>\n",
       "      <td>NaN</td>\n",
       "      <td>NaN</td>\n",
       "      <td>NaN</td>\n",
       "    </tr>\n",
       "    <tr>\n",
       "      <th>4504</th>\n",
       "      <td>NaN</td>\n",
       "      <td>NaN</td>\n",
       "      <td>NaN</td>\n",
       "      <td>NaN</td>\n",
       "      <td>NaN</td>\n",
       "      <td>NaN</td>\n",
       "      <td>NaN</td>\n",
       "      <td>NaN</td>\n",
       "    </tr>\n",
       "    <tr>\n",
       "      <th>4505</th>\n",
       "      <td>NaN</td>\n",
       "      <td>NaN</td>\n",
       "      <td>NaN</td>\n",
       "      <td>NaN</td>\n",
       "      <td>NaN</td>\n",
       "      <td>NaN</td>\n",
       "      <td>NaN</td>\n",
       "      <td>NaN</td>\n",
       "    </tr>\n",
       "    <tr>\n",
       "      <th>4506</th>\n",
       "      <td>NaN</td>\n",
       "      <td>NaN</td>\n",
       "      <td>NaN</td>\n",
       "      <td>NaN</td>\n",
       "      <td>NaN</td>\n",
       "      <td>NaN</td>\n",
       "      <td>NaN</td>\n",
       "      <td>NaN</td>\n",
       "    </tr>\n",
       "  </tbody>\n",
       "</table>\n",
       "<p>4507 rows × 8 columns</p>\n",
       "</div>"
      ],
      "text/plain": [
       "      id  index_sentence  sentence  target  category  polarity  from  to\n",
       "0    NaN             NaN       NaN     NaN       NaN       NaN   NaN NaN\n",
       "1    NaN             NaN       NaN     NaN       NaN       NaN   NaN NaN\n",
       "2    NaN             NaN       NaN     NaN       NaN       NaN   NaN NaN\n",
       "3    NaN             NaN       NaN     NaN       NaN       NaN   NaN NaN\n",
       "4    NaN             NaN       NaN     NaN       NaN       NaN   NaN NaN\n",
       "...   ..             ...       ...     ...       ...       ...   ...  ..\n",
       "4502 NaN             NaN       NaN     NaN       NaN       NaN   NaN NaN\n",
       "4503 NaN             NaN       NaN     NaN       NaN       NaN   NaN NaN\n",
       "4504 NaN             NaN       NaN     NaN       NaN       NaN   NaN NaN\n",
       "4505 NaN             NaN       NaN     NaN       NaN       NaN   NaN NaN\n",
       "4506 NaN             NaN       NaN     NaN       NaN       NaN   NaN NaN\n",
       "\n",
       "[4507 rows x 8 columns]"
      ]
     },
     "execution_count": 149,
     "metadata": {},
     "output_type": "execute_result"
    }
   ],
   "source": [
    "dataDf"
   ]
  },
  {
   "cell_type": "code",
   "execution_count": 145,
   "metadata": {},
   "outputs": [],
   "source": [
    "dataDf.to_csv (r'D:\\Git\\TER-Sentiment-Analysis\\data\\export_data.csv', header=True)"
   ]
  },
  {
   "cell_type": "code",
   "execution_count": null,
   "metadata": {},
   "outputs": [],
   "source": []
  }
 ],
 "metadata": {
  "kernelspec": {
   "display_name": "Python (Deep Learning)",
   "language": "python",
   "name": "deep_learning"
  },
  "language_info": {
   "codemirror_mode": {
    "name": "ipython",
    "version": 3
   },
   "file_extension": ".py",
   "mimetype": "text/x-python",
   "name": "python",
   "nbconvert_exporter": "python",
   "pygments_lexer": "ipython3",
   "version": "3.7.3"
  }
 },
 "nbformat": 4,
 "nbformat_minor": 4
}
